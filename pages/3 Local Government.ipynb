{
 "cells": [
  {
   "cell_type": "code",
   "execution_count": 1,
   "id": "611c4bf2",
   "metadata": {},
   "outputs": [],
   "source": [
    "import streamlit as st\n",
    "import pandas as pd\n",
    "import numpy as np\n",
    "from shroomdk import ShroomDK\n",
    "import seaborn as sns\n",
    "import matplotlib.pyplot as plt\n",
    "import matplotlib.dates as md\n",
    "import matplotlib.ticker as ticker\n",
    "import numpy as np\n",
    "import altair as alt\n",
    "sdk = ShroomDK(\"7bfe27b2-e726-4d8d-b519-03abc6447728\")"
   ]
  },
  {
   "cell_type": "code",
   "execution_count": 2,
   "id": "741febde",
   "metadata": {},
   "outputs": [
    {
     "name": "stderr",
     "output_type": "stream",
     "text": [
      "2022-12-28 16:23:52.285 \n",
      "  \u001b[33m\u001b[1mWarning:\u001b[0m to view this Streamlit app on a browser, run it with the following\n",
      "  command:\n",
      "\n",
      "    streamlit run C:\\Users\\adri_\\anaconda3\\envs\\cryptoanalysis\\lib\\site-packages\\ipykernel_launcher.py [ARGUMENTS]\n"
     ]
    },
    {
     "data": {
      "text/plain": [
       "DeltaGenerator(_root_container=0, _provided_cursor=None, _parent=None, _block_type=None, _form_data=None)"
      ]
     },
     "execution_count": 2,
     "metadata": {},
     "output_type": "execute_result"
    }
   ],
   "source": [
    "st.title('Local Government')"
   ]
  },
  {
   "cell_type": "code",
   "execution_count": 3,
   "id": "2b9731e2",
   "metadata": {},
   "outputs": [
    {
     "data": {
      "text/plain": [
       "DeltaGenerator(_root_container=0, _provided_cursor=None, _parent=None, _block_type=None, _form_data=None)"
      ]
     },
     "execution_count": 3,
     "metadata": {},
     "output_type": "execute_result"
    }
   ],
   "source": [
    "st.markdown('NEAR Protocol uses _Proof-of-Stake (PoS)_ consensus to secure and validate transactions on the blockchain. Validators earn NEAR Token rewards for producing new blocks in the form of a static inflation rate of about 4.5% each year.')\n",
    "st.markdown('Token holders not interested in being a Validator can stake to a Validator’s staking pool and earn a portion of Token rewards too. This incentivizes Token holders to stay involved with the community and support Validators who are keeping the network running smoothly.')"
   ]
  },
  {
   "cell_type": "code",
   "execution_count": 4,
   "id": "0c532593",
   "metadata": {},
   "outputs": [],
   "source": [
    "st.markdown('One of the main aspects to be aware about the blockchains that use proof of stake is the decentralization. **Decentralization** is by far one of the most important factors in a crypto ecosystem. As you probably already figured out, the validation system in place might fail to honor this by progressively moving towards a more traditional centralized environment. Why and how could this happen?') \n",
    "st.write('- As it was briefly mentioned previously, validators are incentivized to hold more and more NEAR to guarantee a spot in the network for themselves.') \n",
    "st.write('- Users look at the voting power (= total staked NEAR) of a validator as a good indicator of who to trust and delegate their funds to. This is understandable and that is why there is a need to constantly educate the user base and promote smaller validators.')"
   ]
  },
  {
   "cell_type": "code",
   "execution_count": 30,
   "id": "171bed15",
   "metadata": {},
   "outputs": [],
   "source": [
    "st.markdown('In this dashboard we are gonna asses the state of governance on NEAR in terms of decentralization basing on a different metrics:')\n",
    "st.write('- Distribution of staking by validators')\n",
    "st.write('- Power distribution by validator ranks')\n",
    "st.write('- Most common staking actions currently and over time')\n",
    "st.write('- Evolution of Nakamoto coefficient')"
   ]
  },
  {
   "cell_type": "code",
   "execution_count": 6,
   "id": "2ac1850f",
   "metadata": {},
   "outputs": [],
   "source": [
    "sql = f\"\"\"\n",
    "SELECT\n",
    "  trunc(block_timestamp,'day') as date,\n",
    "  method_name,\n",
    "  case when method_name in ('deposit_and_stake','stake','stake_all') then 'staking'\n",
    "  when method_name in ('unstake','unstake_all') then 'unstaking'\n",
    "  else method_name end as method_name2,\n",
    "  count(distinct TX_HASH) as actions\n",
    "from near.core.fact_actions_events_function_call\n",
    "  WHERE method_name in ('deposit_and_stake','stake','stake_all','unstake','unstake_all','unbond_delegation','update_validator')\n",
    "  --'vote', \n",
    "  and block_timestamp between current_date - INTERVAL '1 MONTH' and current_date\n",
    "    group by 1,2,3\n",
    "  order by 1 asc\n",
    "\"\"\""
   ]
  },
  {
   "cell_type": "code",
   "execution_count": 7,
   "id": "43f5430f",
   "metadata": {},
   "outputs": [
    {
     "name": "stdout",
     "output_type": "stream",
     "text": [
      "<class 'pandas.core.frame.DataFrame'>\n",
      "RangeIndex: 159 entries, 0 to 158\n",
      "Data columns (total 4 columns):\n",
      " #   Column        Non-Null Count  Dtype \n",
      "---  ------        --------------  ----- \n",
      " 0   date          159 non-null    object\n",
      " 1   method_name   159 non-null    object\n",
      " 2   method_name2  159 non-null    object\n",
      " 3   actions       159 non-null    int64 \n",
      "dtypes: int64(1), object(3)\n",
      "memory usage: 5.1+ KB\n"
     ]
    },
    {
     "data": {
      "text/plain": [
       "DeltaGenerator(_root_container=0, _provided_cursor=None, _parent=None, _block_type=None, _form_data=None)"
      ]
     },
     "execution_count": 7,
     "metadata": {},
     "output_type": "execute_result"
    }
   ],
   "source": [
    "results = sdk.query(sql)\n",
    "df = pd.DataFrame(results.records)\n",
    "df.info()\n",
    "st.subheader('Main staking activity metrics over the past month')\n",
    "st.markdown('In this first part, we can take a look at the local government metrics on Near, where it can be seen how the staking actions have been splitted across the protocol, the distribution of validators, the Nakamoto coefficient, as well as some other interesting metrics regarding validators.')"
   ]
  },
  {
   "cell_type": "code",
   "execution_count": 9,
   "id": "61cd5f4e",
   "metadata": {},
   "outputs": [
    {
     "data": {
      "text/plain": [
       "DeltaGenerator(_root_container=0, _provided_cursor=None, _parent=None, _block_type=None, _form_data=None)"
      ]
     },
     "execution_count": 9,
     "metadata": {},
     "output_type": "execute_result"
    }
   ],
   "source": [
    "st.altair_chart(alt.Chart(df, height=500, width=500)\n",
    "    .mark_bar()\n",
    "    .encode(x='sum(actions)', y=alt.Y('method_name2',sort='-x'),color=alt.Color('method_name2', scale=alt.Scale(scheme='dark2')))\n",
    "    .properties(title='Type of action by usage'))"
   ]
  },
  {
   "cell_type": "code",
   "execution_count": 10,
   "id": "676b1cc0",
   "metadata": {},
   "outputs": [
    {
     "data": {
      "text/plain": [
       "DeltaGenerator(_root_container=0, _provided_cursor=None, _parent=None, _block_type=None, _form_data=None)"
      ]
     },
     "execution_count": 10,
     "metadata": {},
     "output_type": "execute_result"
    }
   ],
   "source": [
    "st.altair_chart(alt.Chart(df, height=500, width=500)\n",
    "    .mark_bar()\n",
    "    .encode(x='date:O', y='actions:Q',color=alt.Color('method_name2', scale=alt.Scale(scheme='dark2')))\n",
    "    .properties(title='Daily actions by type'))"
   ]
  },
  {
   "cell_type": "code",
   "execution_count": 11,
   "id": "ecf6b2b1",
   "metadata": {},
   "outputs": [],
   "source": [
    "sql2 = f\"\"\"\n",
    "with \n",
    "  t1 as (\n",
    "  SELECT \n",
    "    x.block_timestamp as week,\n",
    "    method_name,\n",
    "    tx_signer,\n",
    "    tx_receiver\n",
    "  FROM near.core.fact_actions_events_function_call x\n",
    "  JOIN near.core.fact_transactions y ON x.tx_hash = y.tx_hash\n",
    "  WHERE method_name IN ('deposit_and_stake','unstake_all')\n",
    "),\n",
    "t2 as (\n",
    "  SELECT \n",
    "    trunc(week,'week') as date,\n",
    "  tx_receiver as validator,\n",
    "  count(distinct tx_signer) as stakers\n",
    "  from t1 where method_name='deposit_and_stake'\n",
    "  group by 1,2\n",
    "  ),\n",
    "t3 as (\n",
    "  SELECT \n",
    "    trunc(week,'week') as date,\n",
    "  tx_receiver as validator,\n",
    "  count(distinct tx_signer) as unstakers\n",
    "  from t1 where method_name='unstake_all'\n",
    "  group by 1,2\n",
    "  )\n",
    "SELECT\n",
    "ifnull(t2.date,t3.date) as date,\n",
    "ifnull(t2.validator,t3.validator) as validator,\n",
    "ifnull(stakers,0) as stakerss, ifnull(unstakers*(-1),0) as unstakerss,stakerss+unstakerss as net_stakers\n",
    "from t2\n",
    "join t3 on t2.date=t3.date and t2.validator=t3.validator where t2.validator not like '%lockup%'\n",
    "\"\"\""
   ]
  },
  {
   "cell_type": "code",
   "execution_count": 12,
   "id": "0275b6b1",
   "metadata": {},
   "outputs": [
    {
     "name": "stdout",
     "output_type": "stream",
     "text": [
      "<class 'pandas.core.frame.DataFrame'>\n",
      "RangeIndex: 5717 entries, 0 to 5716\n",
      "Data columns (total 5 columns):\n",
      " #   Column       Non-Null Count  Dtype \n",
      "---  ------       --------------  ----- \n",
      " 0   date         5717 non-null   object\n",
      " 1   validator    5717 non-null   object\n",
      " 2   stakerss     5717 non-null   int64 \n",
      " 3   unstakerss   5717 non-null   int64 \n",
      " 4   net_stakers  5717 non-null   int64 \n",
      "dtypes: int64(3), object(2)\n",
      "memory usage: 223.4+ KB\n"
     ]
    }
   ],
   "source": [
    "results2 = sdk.query(sql2)\n",
    "df2 = pd.DataFrame(results2.records)\n",
    "df2.info()"
   ]
  },
  {
   "cell_type": "code",
   "execution_count": 40,
   "id": "7fefa0af",
   "metadata": {},
   "outputs": [
    {
     "data": {
      "text/plain": [
       "DeltaGenerator(_root_container=0, _provided_cursor=None, _parent=None, _block_type=None, _form_data=None)"
      ]
     },
     "execution_count": 40,
     "metadata": {},
     "output_type": "execute_result"
    }
   ],
   "source": [
    "base2=alt.Chart(df2).encode(x=alt.X('date:O', axis=alt.Axis(labelAngle=325)))\n",
    "line1=base2.mark_line(color='blue').encode(y=alt.Y('sum(stakerss):Q', axis=alt.Axis(grid=True)))\n",
    "line2=base2.mark_line(color='orange').encode(y='sum(unstakerss):Q')\n",
    "st.altair_chart((line1 + line2).properties(title='Daily stakers vs unstakers over the past month',width=600))"
   ]
  },
  {
   "cell_type": "code",
   "execution_count": 24,
   "id": "13da9ad4",
   "metadata": {},
   "outputs": [
    {
     "data": {
      "text/plain": [
       "DeltaGenerator(_root_container=0, _provided_cursor=None, _parent=None, _block_type=None, _form_data=None)"
      ]
     },
     "execution_count": 24,
     "metadata": {},
     "output_type": "execute_result"
    }
   ],
   "source": [
    "st.altair_chart(alt.Chart(df2, height=500, width=500)\n",
    "    .mark_bar(color='green')\n",
    "    .encode(x='date:O', y='sum(net_stakers):Q')\n",
    "    .properties(title='Daily net stakers over the past month'))"
   ]
  },
  {
   "cell_type": "code",
   "execution_count": 16,
   "id": "60f1f06c",
   "metadata": {},
   "outputs": [
    {
     "data": {
      "text/plain": [
       "DeltaGenerator(_root_container=0, _provided_cursor=None, _parent=None, _block_type=None, _form_data=None)"
      ]
     },
     "execution_count": 16,
     "metadata": {},
     "output_type": "execute_result"
    }
   ],
   "source": [
    "st.altair_chart(alt.Chart(df2, height=500, width=500)\n",
    "    .mark_bar()\n",
    "    .encode(x='date:O', y='net_stakers:Q',color=alt.Color('validator', scale=alt.Scale(scheme='dark2')))\n",
    "    .properties(title='Daily net_stakers by validator'))"
   ]
  },
  {
   "cell_type": "code",
   "execution_count": 41,
   "id": "3605465e",
   "metadata": {},
   "outputs": [],
   "source": [
    "st.subheader(\"Near decentralization\")\n",
    "st.markdown('To close this section, here it can be seen a representation of the current total NEAR staked by each validator as well as the evolution of the Nakamoto Coefficient.')\n",
    "st.markdown('**Nakamoto Coefficient** is one of the main interesting metrics to measure the decentralization of a blockchain, that represents how many validators are needed to accumulate more than 50% of the total current NEAR staked.')\n",
    "sql3='''\n",
    " WITH \n",
    "   transactions as (\n",
    "   SELECT tx_hash\n",
    "FROM near.core.fact_actions_events_function_call\n",
    "  WHERE method_name IN ('deposit_and_stake')\n",
    "   ),\n",
    "   stakes as (\n",
    "SELECT \n",
    "  block_timestamp,\n",
    "  tx_hash as tx,\n",
    "  tx_receiver as validator, \n",
    "  tx_signer as delegator,\n",
    "  tx:actions[0]:FunctionCall:deposit/pow(10,24) near_staked\n",
    "FROM near.core.fact_transactions\n",
    "  WHERE tx_hash in (select * from transactions)\n",
    "),\n",
    "   transactions2 as (\n",
    "   SELECT tx_hash\n",
    "FROM near.core.fact_actions_events_function_call\n",
    "  WHERE method_name ='unstake_all'\n",
    "   ),\n",
    "   unstakes as (\n",
    "SELECT \n",
    "  block_timestamp,\n",
    "  tx_hash as tx,\n",
    "  tx_receiver as validator, \n",
    "  tx_signer as delegator,\n",
    "  tx:actions[0]:FunctionCall:deposit/pow(10,24) near_unstaked\n",
    "FROM near.core.fact_transactions\n",
    "  WHERE tx_hash in (select * from transactions2)\n",
    "),\n",
    "weekly as (\n",
    "   SELECT \n",
    "   trunc(x.block_timestamp,'week') as weeks,\n",
    "   x.tx,\n",
    "   x.validator,\n",
    "   near_staked\n",
    "   --amount_staked/pow(10,24) as near_staked\n",
    "FROM stakes x\n",
    "   WHERE near_staked is not null \n",
    "),\n",
    "   weekly2 as (\n",
    "   SELECT \n",
    "   trunc(x.block_timestamp,'week') as weeks,\n",
    "   x.tx,\n",
    "   x.validator,\n",
    "   near_unstaked\n",
    "   --amount_staked/pow(10,24) as near_staked\n",
    "FROM unstakes x\n",
    "   WHERE near_unstaked is not null \n",
    "),\n",
    "  totals as (\n",
    "   SELECT\n",
    "   x.weeks,\n",
    "   sum(near_staked) as week_near_staked,\n",
    "   sum(week_near_staked) over (order by x.weeks)as total_near_staked,\n",
    "   sum(near_unstaked) as week_near_unstaked,\n",
    "   sum(week_near_unstaked) over (order by x.weeks)as total_near_unstaked\n",
    "   from weekly x\n",
    "   full outer join weekly2 y on x.weeks=y.weeks\n",
    "   group by 1 order by 1\n",
    "   ),\n",
    "   totals2 as (\n",
    "   SELECT\n",
    "   weeks,\n",
    "   week_near_staked- week_near_unstaked as week_near_staked,\n",
    "   total_near_staked-total_near_unstaked as total_near_staked\n",
    "   from totals\n",
    "   ),\n",
    "ranking1 as (\n",
    "   SELECT \n",
    "   weeks,\n",
    "   validator,\n",
    "   count(distinct tx) as txs,\n",
    "   sum(near_staked) as total_near_delegated,\n",
    "sum(total_near_delegated) over (partition by validator order by weeks) as cumulative_near_delegated\n",
    "FROM weekly \n",
    "group by 1,2\n",
    "),\n",
    "   ranking2 as (\n",
    "   SELECT \n",
    "   weeks,\n",
    "   validator,\n",
    "   count(distinct tx) as txs,\n",
    "   sum(near_unstaked) as total_near_undelegated,\n",
    "sum(total_near_undelegated) over (partition by validator order by weeks) as cumulative_near_undelegated\n",
    "FROM weekly2 \n",
    "group by 1,2\n",
    "),\n",
    "   ranking3 as (\n",
    "   SELECT\n",
    "   ifnull(x.weeks,y.weeks) as weeks,\n",
    "   ifnull(x.validator,y.validator) as validator,\n",
    "   ifnull(total_near_delegated,0)-ifnull(total_near_undelegated,0) as total_near_delegated,\n",
    "   ifnull(cumulative_near_delegated,0)-ifnull(cumulative_near_undelegated,0) as cumulative_near_delegated\n",
    "   from ranking1 x\n",
    "   full outer join ranking2 y on x.weeks=y.weeks and x.validator=y.validator\n",
    "   ),\n",
    "stats as (\n",
    "  SELECT\n",
    "  weeks,\n",
    "33 as bizantine_fault_tolerance,\n",
    "total_near_staked,\n",
    "(total_near_staked*bizantine_fault_tolerance)/100 as threshold--,\n",
    "--sum(total_sol_delegated) over (partition by weeks order by validator_ranks asc) as total_sol_delegated_by_ranks,\n",
    "--count(distinct vote_accounts) as validators\n",
    "from totals2\n",
    "), \n",
    "stats2 as (\n",
    "   select *,\n",
    "1 as numbering,\n",
    "sum(numbering) over (partition by weeks order by cumulative_near_delegated desc) as rank \n",
    "from ranking3\n",
    "   )\n",
    "SELECT\n",
    "weeks,\n",
    "validator,\n",
    "cumulative_near_delegated,\n",
    "rank,\n",
    "sum(cumulative_near_delegated) over (partition by weeks order by rank asc) as total_staked\n",
    "--count(case when total_staked)\n",
    "--sum(1) over (partition by weeks order by stake_rank) as nakamoto_coeff\n",
    "  from stats2 where cumulative_near_delegated is not null and weeks>=CURRENT_DATE-6 and rank<100\n",
    "order by rank asc\n",
    "\n",
    "\n",
    "'''"
   ]
  },
  {
   "cell_type": "code",
   "execution_count": 42,
   "id": "3d79994d",
   "metadata": {},
   "outputs": [],
   "source": [
    "results3 = sdk.query(sql3)\n",
    "df3 = pd.DataFrame(results3.records)"
   ]
  },
  {
   "cell_type": "code",
   "execution_count": 44,
   "id": "aea0c68e",
   "metadata": {},
   "outputs": [
    {
     "data": {
      "text/plain": [
       "DeltaGenerator(_root_container=0, _provided_cursor=None, _parent=None, _block_type=None, _form_data=None)"
      ]
     },
     "execution_count": 44,
     "metadata": {},
     "output_type": "execute_result"
    }
   ],
   "source": [
    "st.altair_chart(alt.Chart(df3, height=500, width=600)\n",
    "    .mark_bar()\n",
    "    .encode(x=alt.X('validator',sort='-y'), y=('cumulative_near_delegated'),color=alt.Color('cumulative_near_delegated'))\n",
    "    .properties(title='Current NEAR delegated by validator'))"
   ]
  },
  {
   "cell_type": "code",
   "execution_count": 31,
   "id": "44b729e1",
   "metadata": {},
   "outputs": [],
   "source": [
    "sql4='''\n",
    " WITH \n",
    "   transactions as (\n",
    "   SELECT tx_hash\n",
    "FROM near.core.fact_actions_events_function_call\n",
    "  WHERE method_name IN ('deposit_and_stake')\n",
    "   ),\n",
    "   stakes as (\n",
    "SELECT \n",
    "  block_timestamp,\n",
    "  tx_hash as tx,\n",
    "  tx_receiver as validator, \n",
    "  tx_signer as delegator,\n",
    "  tx:actions[0]:FunctionCall:deposit/pow(10,24) near_staked\n",
    "FROM near.core.fact_transactions\n",
    "  WHERE tx_hash in (select * from transactions)\n",
    "),\n",
    "weekly as (\n",
    "   SELECT \n",
    "   trunc(block_timestamp,'week') as weeks,\n",
    "   tx,\n",
    "   validator,\n",
    "   near_staked\n",
    "   --amount_staked/pow(10,24) as near_staked\n",
    "FROM stakes WHERE near_staked is not null \n",
    "),\n",
    "  totals as (\n",
    "   SELECT\n",
    "   weeks,\n",
    "   sum(near_staked) as week_near_staked,\n",
    "   sum(week_near_staked) over (order by weeks)as total_near_staked\n",
    "   from weekly\n",
    "   group by 1 order by 1\n",
    "   ),\n",
    "ranking as (\n",
    "   SELECT \n",
    "   weeks,\n",
    "   validator,\n",
    "   count(distinct tx) as txs,\n",
    "   sum(near_staked) as total_near_delegated,\n",
    "sum(total_near_delegated) over (partition by validator order by weeks) as cumulative_near_delegated\n",
    "FROM weekly \n",
    "group by 1,2\n",
    "),\n",
    "stats as (\n",
    "  SELECT\n",
    "  weeks,\n",
    "50 as bizantine_fault_tolerance,\n",
    "total_near_staked,\n",
    "(total_near_staked*bizantine_fault_tolerance)/100 as threshold--,\n",
    "--sum(total_sol_delegated) over (partition by weeks order by validator_ranks asc) as total_sol_delegated_by_ranks,\n",
    "--count(distinct vote_accounts) as validators\n",
    "from totals\n",
    "), \n",
    "stats2 as (\n",
    "   select *,\n",
    "1 as numbering,\n",
    "sum(numbering) over (partition by weeks order by cumulative_near_delegated desc) as rank \n",
    "from ranking\n",
    "   ),\n",
    "stats3 as (\n",
    "SELECT\n",
    "weeks,\n",
    "validator,\n",
    "cumulative_near_delegated,\n",
    "rank,\n",
    "sum(cumulative_near_delegated) over (partition by weeks order by rank asc) as total_staked\n",
    "--count(case when total_staked)\n",
    "--sum(1) over (partition by weeks order by stake_rank) as nakamoto_coeff\n",
    "  from stats2\n",
    "order by rank asc),\n",
    "   final_nak as (\n",
    "SELECT\n",
    "a.weeks,\n",
    "validator,\n",
    "count(case when total_staked <= threshold then 1 end) as nakamoto_coeff\n",
    "from stats3 a \n",
    "join stats b \n",
    "on a.weeks = b.weeks where a.weeks >=CURRENT_DATE-INTERVAL '1 MONTH'\n",
    "group by 1,2\n",
    "order by 1 asc\n",
    "   )\n",
    "SELECT\n",
    "weeks,sum(nakamoto_coeff) as nakamoto_coeff\n",
    "from final_nak\n",
    "group by 1 order by 1 asc \n",
    "'''"
   ]
  },
  {
   "cell_type": "code",
   "execution_count": 32,
   "id": "b49fc95f",
   "metadata": {},
   "outputs": [],
   "source": [
    "results4 = sdk.query(sql4)\n",
    "df4 = pd.DataFrame(results4.records)"
   ]
  },
  {
   "cell_type": "code",
   "execution_count": 33,
   "id": "bc998d79",
   "metadata": {},
   "outputs": [
    {
     "data": {
      "text/plain": [
       "DeltaGenerator(_root_container=0, _provided_cursor=None, _parent=None, _block_type=None, _form_data=None)"
      ]
     },
     "execution_count": 33,
     "metadata": {},
     "output_type": "execute_result"
    }
   ],
   "source": [
    "st.altair_chart(alt.Chart(df4, height=500, width=500)\n",
    "    .mark_bar()\n",
    "    .encode(x='weeks:N', y='nakamoto_coeff:Q',color=alt.Color('nakamoto_coeff'))\n",
    "    .properties(title='Weekly Nakamoto Coefficient over the past month'))"
   ]
  },
  {
   "cell_type": "code",
   "execution_count": null,
   "id": "31a8f85b",
   "metadata": {},
   "outputs": [],
   "source": []
  }
 ],
 "metadata": {
  "kernelspec": {
   "display_name": "Python 3 (ipykernel)",
   "language": "python",
   "name": "python3"
  },
  "language_info": {
   "codemirror_mode": {
    "name": "ipython",
    "version": 3
   },
   "file_extension": ".py",
   "mimetype": "text/x-python",
   "name": "python",
   "nbconvert_exporter": "python",
   "pygments_lexer": "ipython3",
   "version": "3.9.15"
  }
 },
 "nbformat": 4,
 "nbformat_minor": 5
}
