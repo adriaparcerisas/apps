{
 "cells": [
  {
   "cell_type": "code",
   "execution_count": 183,
   "id": "611c4bf2",
   "metadata": {},
   "outputs": [],
   "source": [
    "import streamlit as st\n",
    "import pandas as pd\n",
    "import numpy as np\n",
    "from shroomdk import ShroomDK\n",
    "import seaborn as sns\n",
    "import matplotlib.pyplot as plt\n",
    "import matplotlib.dates as md\n",
    "import matplotlib.ticker as ticker\n",
    "import numpy as np\n",
    "import altair as alt\n",
    "sdk = ShroomDK(\"7bfe27b2-e726-4d8d-b519-03abc6447728\")"
   ]
  },
  {
   "cell_type": "code",
   "execution_count": 184,
   "id": "741febde",
   "metadata": {},
   "outputs": [
    {
     "data": {
      "text/plain": [
       "DeltaGenerator(_root_container=0, _provided_cursor=None, _parent=None, _block_type=None, _form_data=None)"
      ]
     },
     "execution_count": 184,
     "metadata": {},
     "output_type": "execute_result"
    }
   ],
   "source": [
    "st.title('The Capital of Near')"
   ]
  },
  {
   "cell_type": "code",
   "execution_count": 185,
   "id": "da842ed9",
   "metadata": {},
   "outputs": [
    {
     "data": {
      "text/plain": [
       "DeltaGenerator(_root_container=0, _provided_cursor=None, _parent=None, _block_type=None, _form_data=None)"
      ]
     },
     "execution_count": 185,
     "metadata": {},
     "output_type": "execute_result"
    }
   ],
   "source": [
    "st.markdown('The **activity** of a blockchain network is one of the most important things in crypto. Not only because of it is a measure to track the viability of a project but also because of it provides several relevant metrics about the progress of the network and its usage.')"
   ]
  },
  {
   "cell_type": "code",
   "execution_count": 209,
   "id": "ffbf80a7",
   "metadata": {},
   "outputs": [],
   "source": [
    "st.markdown('In this section, we are gonna track the basic metrics registered on NEAR Protocol so far such as:') \n",
    "st.write('- Number of transactions') \n",
    "st.write('- Number of users')\n",
    "st.write('- Transaction fees') \n",
    "st.write('- Percentage differences over time')\n",
    "st.write('- Number of smart contracts')\n",
    "st.write('- Top 10 contract addresses by smart contract interactions')"
   ]
  },
  {
   "cell_type": "code",
   "execution_count": 187,
   "id": "2ac1850f",
   "metadata": {},
   "outputs": [],
   "source": [
    "sql = f\"\"\"\n",
    "SELECT\n",
    "COUNT(DISTINCT TX_HASH) as number_transactions,\n",
    "COUNT(DISTINCT TX_SIGNER) as unique_users\n",
    "FROM near.core.fact_transactions\n",
    "WHERE block_timestamp::date < CURRENT_DATE and block_timestamp::date>=CURRENT_DATE-INTERVAL '1 MONTH'\n",
    "\"\"\""
   ]
  },
  {
   "cell_type": "code",
   "execution_count": 192,
   "id": "43f5430f",
   "metadata": {},
   "outputs": [
    {
     "name": "stdout",
     "output_type": "stream",
     "text": [
      "<class 'pandas.core.frame.DataFrame'>\n",
      "RangeIndex: 1 entries, 0 to 0\n",
      "Data columns (total 2 columns):\n",
      " #   Column               Non-Null Count  Dtype\n",
      "---  ------               --------------  -----\n",
      " 0   number_transactions  1 non-null      int64\n",
      " 1   unique_users         1 non-null      int64\n",
      "dtypes: int64(2)\n",
      "memory usage: 144.0 bytes\n"
     ]
    },
    {
     "data": {
      "text/plain": [
       "DeltaGenerator(_root_container=0, _provided_cursor=None, _parent=None, _block_type=None, _form_data=None)"
      ]
     },
     "execution_count": 192,
     "metadata": {},
     "output_type": "execute_result"
    }
   ],
   "source": [
    "results = sdk.query(sql)\n",
    "df = pd.DataFrame(results.records)\n",
    "df.info()\n",
    "st.subheader('Near activity metrics over the past month')\n",
    "st.markdown('In this first part, we can take a look at the Capital metrics on Near, where can see how the number of transactions done across the protocol, the evolution of active users, as well as the transaction fees paid in NEAR which usually follows a similar strucutre then the number of transactions.')"
   ]
  },
  {
   "cell_type": "code",
   "execution_count": 193,
   "id": "560befbb",
   "metadata": {},
   "outputs": [],
   "source": [
    "sql_bis = f\"\"\"\n",
    "SELECT\n",
    "COUNT(DISTINCT TX_HASH) as number_transactions,\n",
    "COUNT(DISTINCT TX_SIGNER) as unique_users\n",
    "FROM near.core.fact_transactions\n",
    "WHERE block_timestamp::date < CURRENT_DATE-INTERVAL '1 MONTH' and block_timestamp::date>=CURRENT_DATE-INTERVAL '2 MONTHS'\n",
    "\"\"\""
   ]
  },
  {
   "cell_type": "code",
   "execution_count": 194,
   "id": "2500140b",
   "metadata": {},
   "outputs": [
    {
     "name": "stdout",
     "output_type": "stream",
     "text": [
      "<class 'pandas.core.frame.DataFrame'>\n",
      "RangeIndex: 1 entries, 0 to 0\n",
      "Data columns (total 2 columns):\n",
      " #   Column               Non-Null Count  Dtype\n",
      "---  ------               --------------  -----\n",
      " 0   number_transactions  1 non-null      int64\n",
      " 1   unique_users         1 non-null      int64\n",
      "dtypes: int64(2)\n",
      "memory usage: 144.0 bytes\n"
     ]
    }
   ],
   "source": [
    "results_bis = sdk.query(sql_bis)\n",
    "df_bis = pd.DataFrame(results_bis.records)\n",
    "df_bis.info()"
   ]
  },
  {
   "cell_type": "code",
   "execution_count": 195,
   "id": "61cd5f4e",
   "metadata": {},
   "outputs": [
    {
     "data": {
      "text/plain": [
       "DeltaGenerator(_root_container=0, _provided_cursor=None, _parent=None, _block_type=None, _form_data=None)"
      ]
     },
     "execution_count": 195,
     "metadata": {},
     "output_type": "execute_result"
    }
   ],
   "source": [
    "col1,col2 =st.columns(2)\n",
    "with col1:\n",
    "    st.metric('Number of transactions over the past month', df['number_transactions'][0], int(df['number_transactions'][0]-df_bis['number_transactions'][0]))\n",
    "col2.metric('Number of unique users over the past month', df['unique_users'][0], int(df['unique_users'][0]-df_bis['unique_users'][0]))\n"
   ]
  },
  {
   "cell_type": "code",
   "execution_count": 196,
   "id": "ecf6b2b1",
   "metadata": {},
   "outputs": [],
   "source": [
    "sql2 = f\"\"\"\n",
    "WITH swaps AS (\n",
    "  SELECT \n",
    "  block_timestamp,\n",
    "  logs[0] AS log, \n",
    "  substring(log, 1, CHARINDEX(' wrap.near for', log)) AS first_part, \n",
    "  regexp_replace(first_part, '[^0-9]', '')/pow(10, 24) AS near_amount,    \n",
    "  substring(log, CHARINDEX('for', log), 100) AS second_part,\n",
    "  substring(second_part, 1, CHARINDEX('dac', second_part)-2) AS second_part_amount,\n",
    "  regexp_replace(second_part_amount, '[^0-9]', '')/pow(10,6) AS usdt_amount\n",
    "  FROM near.core.fact_receipts\n",
    "  WHERE logs[0] like 'Swapped % wrap.near for % dac17f958d2ee523a2206206994597c13d831ec7.factory.bridge.near'\n",
    "  and block_timestamp::date>=CURRENT_DATE-INTERVAL '1 MONTH'\n",
    ")\n",
    "SELECT\n",
    "*,\n",
    "ROUND((active_users - active_users_prev)/active_users_prev * 100,2) AS pct_diff_active,\n",
    "ROUND((number_transactions - number_transactions_prev)/number_transactions_prev * 100,2) AS pct_diff_transactions,\n",
    "ROUND((txn_fees_usd - txn_fees_prev)/txn_fees_prev * 100,2) AS pct_diff_txn_fees\n",
    "FROM\n",
    "(\n",
    "SELECT\n",
    "*,\n",
    "LAG(active_users,1) OVER (ORDER BY date) active_users_prev,\n",
    "LAG(number_transactions,1) OVER (ORDER BY date) number_transactions_prev,\n",
    "LAG(txn_fees_usd) OVER (ORDER BY date) txn_fees_prev\n",
    "FROM\n",
    "(\n",
    "SELECT\n",
    "  tr.*,\n",
    "  txn_fees*np.price AS txn_fees_usd\n",
    "  FROM\n",
    "    (\n",
    "    SELECT\n",
    "    DATE_TRUNC('day',block_timestamp::date) AS date,\n",
    "    DATE_TRUNC('day', block_timestamp::date - 1) AS date_prev,\n",
    "    COUNT(DISTINCT TX_SIGNER) AS active_users,\n",
    "    COUNT(DISTINCT TX_HASH) AS number_transactions,\n",
    "    SUM(TRANSACTION_FEE/POW(10,24)) AS txn_fees\n",
    "    FROM near.core.fact_transactions AS tr\n",
    "    WHERE date < CURRENT_DATE\n",
    "    GROUP BY date, date_prev\n",
    "    ) AS tr\n",
    "  INNER JOIN (\n",
    "  SELECT\n",
    "  DATE_TRUNC('day',block_timestamp) AS date, \n",
    "  avg(usdt_amount)/avg(near_amount) AS price\n",
    "  FROM swaps\n",
    "  GROUP BY date\n",
    "  ) AS np\n",
    "  ON tr.date=np.date\n",
    ")\n",
    ")\n",
    "ORDER BY date DESC\n",
    "\"\"\""
   ]
  },
  {
   "cell_type": "code",
   "execution_count": 197,
   "id": "0275b6b1",
   "metadata": {},
   "outputs": [
    {
     "name": "stdout",
     "output_type": "stream",
     "text": [
      "<class 'pandas.core.frame.DataFrame'>\n",
      "RangeIndex: 30 entries, 0 to 29\n",
      "Data columns (total 12 columns):\n",
      " #   Column                    Non-Null Count  Dtype  \n",
      "---  ------                    --------------  -----  \n",
      " 0   date                      30 non-null     object \n",
      " 1   date_prev                 30 non-null     object \n",
      " 2   active_users              30 non-null     int64  \n",
      " 3   number_transactions       30 non-null     int64  \n",
      " 4   txn_fees                  30 non-null     float64\n",
      " 5   txn_fees_usd              30 non-null     float64\n",
      " 6   active_users_prev         29 non-null     float64\n",
      " 7   number_transactions_prev  29 non-null     float64\n",
      " 8   txn_fees_prev             29 non-null     float64\n",
      " 9   pct_diff_active           29 non-null     float64\n",
      " 10  pct_diff_transactions     29 non-null     float64\n",
      " 11  pct_diff_txn_fees         29 non-null     float64\n",
      "dtypes: float64(8), int64(2), object(2)\n",
      "memory usage: 2.9+ KB\n"
     ]
    }
   ],
   "source": [
    "results = sdk.query(sql2)\n",
    "df2 = pd.DataFrame(results.records)\n",
    "df2.info()\n",
    "#st.markdown('Total number of unique users on Near so far')\n",
    "#st.dataframe(df2)"
   ]
  },
  {
   "cell_type": "code",
   "execution_count": 198,
   "id": "7fefa0af",
   "metadata": {},
   "outputs": [
    {
     "data": {
      "text/plain": [
       "DeltaGenerator(_root_container=0, _provided_cursor=None, _parent=None, _block_type=None, _form_data=None)"
      ]
     },
     "execution_count": 198,
     "metadata": {},
     "output_type": "execute_result"
    }
   ],
   "source": [
    "base=alt.Chart(df2).encode(x=alt.X('date:O', axis=alt.Axis(labelAngle=325)))\n",
    "line=base.mark_line(color='darkblue').encode(y=alt.Y('pct_diff_active:Q', axis=alt.Axis(grid=True)))\n",
    "bar=base.mark_bar(color='#0068c9',opacity=0.5).encode(y='active_users:Q')\n",
    "st.altair_chart((bar + line).resolve_scale(y='independent').properties(title='Daily Near active users',width=600))"
   ]
  },
  {
   "cell_type": "code",
   "execution_count": 199,
   "id": "13da9ad4",
   "metadata": {},
   "outputs": [
    {
     "data": {
      "text/plain": [
       "DeltaGenerator(_root_container=0, _provided_cursor=None, _parent=None, _block_type=None, _form_data=None)"
      ]
     },
     "execution_count": 199,
     "metadata": {},
     "output_type": "execute_result"
    }
   ],
   "source": [
    "base=alt.Chart(df2).encode(x=alt.X('date:O', axis=alt.Axis(labelAngle=325)))\n",
    "line=base.mark_line(color='darkgreen').encode(y=alt.Y('pct_diff_transactions:Q', axis=alt.Axis(grid=True)))\n",
    "bar=base.mark_bar(color='green',opacity=0.5).encode(y='number_transactions:Q')\n",
    "\n",
    "st.altair_chart((bar + line).resolve_scale(y='independent').properties(title='Daily Near transactions executed',width=600))"
   ]
  },
  {
   "cell_type": "code",
   "execution_count": 200,
   "id": "60f1f06c",
   "metadata": {},
   "outputs": [
    {
     "data": {
      "text/plain": [
       "DeltaGenerator(_root_container=0, _provided_cursor=None, _parent=None, _block_type=None, _form_data=None)"
      ]
     },
     "execution_count": 200,
     "metadata": {},
     "output_type": "execute_result"
    }
   ],
   "source": [
    "base=alt.Chart(df2).encode(x=alt.X('date:O', axis=alt.Axis(labelAngle=325)))\n",
    "line=base.mark_line(color='darkred').encode(y=alt.Y('pct_diff_txn_fees:Q', axis=alt.Axis(grid=True)))\n",
    "bar=base.mark_bar(color='red',opacity=0.5).encode(y='txn_fees:Q')\n",
    "\n",
    "st.altair_chart((bar + line).resolve_scale(y='independent').properties(title='Daily fees paid in NEAR',width=600))"
   ]
  },
  {
   "cell_type": "code",
   "execution_count": 201,
   "id": "3605465e",
   "metadata": {},
   "outputs": [],
   "source": [
    "st.subheader(\"Near deployed contracts\")\n",
    "st.markdown('To close this section, here it can be seen the number of smart contracts created over time, both successful and failed creations.')\n",
    "sql3='''\n",
    "SELECT\n",
    "    date_trunc('day', call.block_timestamp) as date,\n",
    "  case when split(split(rc.status_value,':')[0],'{')[1] ilike '%Failure%' then 'Fail execution'\n",
    "  else 'Successful execution' end as type,\n",
    "    COUNT(DISTINCT tr.TX_RECEIVER) as smart_contracts,\n",
    "  sum(smart_contracts) over (partition by type order by date) as cum_smart_contracts\n",
    "FROM near.core.fact_actions_events_function_call call\n",
    "INNER JOIN near.core.fact_transactions tr\n",
    "ON call.TX_HASH = tr.TX_HASH\n",
    "INNER JOIN near.core.fact_receipts as rc\n",
    "ON tr.TX_HASH=rc.TX_HASH\n",
    "    WHERE ACTION_NAME = 'FunctionCall'\n",
    "    AND METHOD_NAME <> 'new'\n",
    "    AND date >=CURRENT_DATE-INTERVAL '1 MONTH'\n",
    "group by 1,2 order by 1 asc,2 desc\n",
    "'''"
   ]
  },
  {
   "cell_type": "code",
   "execution_count": 202,
   "id": "3d79994d",
   "metadata": {},
   "outputs": [],
   "source": [
    "results = sdk.query(sql3)\n",
    "df3 = pd.DataFrame(results.records)"
   ]
  },
  {
   "cell_type": "code",
   "execution_count": 210,
   "id": "aea0c68e",
   "metadata": {},
   "outputs": [
    {
     "data": {
      "text/plain": [
       "DeltaGenerator(_root_container=0, _provided_cursor=None, _parent=None, _block_type=None, _form_data=None)"
      ]
     },
     "execution_count": 210,
     "metadata": {},
     "output_type": "execute_result"
    }
   ],
   "source": [
    "st.altair_chart(alt.Chart(df3, height=500, width=500)\n",
    "    .mark_line()\n",
    "    .encode(x='date:N', y='smart_contracts:Q',color=alt.Color('type', scale=alt.Scale(scheme='dark2')))\n",
    "    .properties(title='Daily smart contracts used'))"
   ]
  },
  {
   "cell_type": "code",
   "execution_count": 211,
   "id": "7ccff9a8",
   "metadata": {},
   "outputs": [
    {
     "data": {
      "text/plain": [
       "DeltaGenerator(_root_container=0, _provided_cursor=None, _parent=None, _block_type=None, _form_data=None)"
      ]
     },
     "execution_count": 211,
     "metadata": {},
     "output_type": "execute_result"
    }
   ],
   "source": [
    "st.altair_chart(alt.Chart(df3, height=500, width=500)\n",
    "    .mark_line()\n",
    "    .encode(x='date:N', y='cum_smart_contracts:Q',color=alt.Color('type', scale=alt.Scale(scheme='dark2')))\n",
    "    .properties(title='Total smart contracts used'))"
   ]
  },
  {
   "cell_type": "code",
   "execution_count": 205,
   "id": "44b729e1",
   "metadata": {},
   "outputs": [],
   "source": [
    "sql4='''\n",
    "with contracts as (select \n",
    "events.block_timestamp as date,\n",
    "receiver_id as receiver,\n",
    "row_number() over (partition by receiver_id order by events.block_timestamp asc) as nums\n",
    "from near.core.fact_actions_events events\n",
    "join near.core.fact_receipts rec\n",
    "on rec.tx_hash = events.tx_hash\n",
    "where action_name ilike '%DEPLOYCONTRACT%'\n",
    "  AND events.block_timestamp < CURRENT_DATE and events.block_timestamp>=CURRENT_DATE-interval '1 MONTH'\n",
    "group by receiver, date\n",
    "qualify nums = 1)\n",
    "\n",
    "select\n",
    "count(distinct tx_hash) as transactions,\n",
    "tx_receiver as contract_address\n",
    "  from near.core.fact_transactions tr\n",
    "join (select date, receiver, nums\n",
    "     from contracts) as contract\n",
    "     on contract.receiver = tr.tx_receiver\n",
    "where tr.block_timestamp < CURRENT_DATE and tr.block_timestamp>= CURRENT_DATE-interval '1 MONTH'\n",
    "group by tx_receiver\n",
    "order by transactions desc\n",
    "limit 10\n",
    "'''"
   ]
  },
  {
   "cell_type": "code",
   "execution_count": 206,
   "id": "b49fc95f",
   "metadata": {},
   "outputs": [],
   "source": [
    "results = sdk.query(sql4)\n",
    "df4 = pd.DataFrame(results.records)"
   ]
  },
  {
   "cell_type": "code",
   "execution_count": 207,
   "id": "bc998d79",
   "metadata": {},
   "outputs": [
    {
     "data": {
      "text/plain": [
       "DeltaGenerator(_root_container=0, _provided_cursor=None, _parent=None, _block_type=None, _form_data=None)"
      ]
     },
     "execution_count": 207,
     "metadata": {},
     "output_type": "execute_result"
    }
   ],
   "source": [
    "st.altair_chart(alt.Chart(df4, height=500, width=500)\n",
    "    .mark_bar()\n",
    "    .encode(x='transactions', y=alt.Y('contract_address',sort='-x'),color=alt.Color('transactions', scale=alt.Scale(scheme='dark2')))\n",
    "    .properties(title='Top 10 most used contracts'))"
   ]
  },
  {
   "cell_type": "code",
   "execution_count": null,
   "id": "1cd9fb7b",
   "metadata": {},
   "outputs": [],
   "source": []
  }
 ],
 "metadata": {
  "kernelspec": {
   "display_name": "Python 3 (ipykernel)",
   "language": "python",
   "name": "python3"
  },
  "language_info": {
   "codemirror_mode": {
    "name": "ipython",
    "version": 3
   },
   "file_extension": ".py",
   "mimetype": "text/x-python",
   "name": "python",
   "nbconvert_exporter": "python",
   "pygments_lexer": "ipython3",
   "version": "3.9.15"
  }
 },
 "nbformat": 4,
 "nbformat_minor": 5
}
