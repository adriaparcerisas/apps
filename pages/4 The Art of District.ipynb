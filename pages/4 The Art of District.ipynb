{
 "cells": [
  {
   "cell_type": "code",
   "execution_count": 74,
   "id": "611c4bf2",
   "metadata": {},
   "outputs": [],
   "source": [
    "import streamlit as st\n",
    "import pandas as pd\n",
    "import numpy as np\n",
    "from shroomdk import ShroomDK\n",
    "import seaborn as sns\n",
    "import matplotlib.pyplot as plt\n",
    "import matplotlib.dates as md\n",
    "import matplotlib.ticker as ticker\n",
    "import numpy as np\n",
    "import altair as alt\n",
    "sdk = ShroomDK(\"7bfe27b2-e726-4d8d-b519-03abc6447728\")"
   ]
  },
  {
   "cell_type": "code",
   "execution_count": 75,
   "id": "741febde",
   "metadata": {},
   "outputs": [
    {
     "data": {
      "text/plain": [
       "DeltaGenerator(_root_container=0, _provided_cursor=None, _parent=None, _block_type=None, _form_data=None)"
      ]
     },
     "execution_count": 75,
     "metadata": {},
     "output_type": "execute_result"
    }
   ],
   "source": [
    "st.title('The Art of District')"
   ]
  },
  {
   "cell_type": "code",
   "execution_count": 76,
   "id": "2b9731e2",
   "metadata": {},
   "outputs": [
    {
     "data": {
      "text/plain": [
       "DeltaGenerator(_root_container=0, _provided_cursor=None, _parent=None, _block_type=None, _form_data=None)"
      ]
     },
     "execution_count": 76,
     "metadata": {},
     "output_type": "execute_result"
    }
   ],
   "source": [
    "st.markdown('One of the features that is attracting more users on the Near network is NFTs. It seems that the NEAR ecosystem for NFTs is very promising at the moment. But we will get to that later in the results section.')\n",
    "st.markdown('While the recent downturn has probably dampened price action, the sheer amount of development happening around NFTs in the NEAR ecosystem is pretty amazing. In fact, this 2022 seems to be where the most activity is being concentrated and new NFT marketplaces are emerging. Now we will look at that next.')"
   ]
  },
  {
   "cell_type": "code",
   "execution_count": 77,
   "id": "171bed15",
   "metadata": {},
   "outputs": [],
   "source": [
    "st.markdown('This section has been created with the intention to analyze the NFT scene on NEAR. The idea is to provide an overview of the main NFT sales activity as well as some characteristics about the Near NFT projects and marketplaces, as well as a user analysis.')\n",
    "st.markdown('Some user behavior metrics, and NFT marketplace and NFT collection metrics are:')\n",
    "st.write('- Average number of NFT sold per user')\n",
    "st.write('- Daily number of sales over time')\n",
    "st.write('- Daily number of sellers over time')\n",
    "st.write('- Daily NEAR volume of sales over time')\n",
    "st.write('- Daily average NFT price over time')"
   ]
  },
  {
   "cell_type": "code",
   "execution_count": 78,
   "id": "a34ca726",
   "metadata": {},
   "outputs": [],
   "source": [
    "sql = f\"\"\"\n",
    "WITH\n",
    "  sales as (SELECT\n",
    "distinct tx_signer as sellers,\n",
    "count(distinct tx_hash) as n_sales\n",
    "from near.core.ez_nft_mints\n",
    "  where block_timestamp>=CURRENT_DATE-INTERVAL '1 MONTH'\n",
    "group by 1 order by 1 asc \n",
    ")\n",
    "SELECT\n",
    "round(avg(n_sales),2) as avg_nft_mints_per_user\n",
    "from sales\n",
    "\"\"\""
   ]
  },
  {
   "cell_type": "code",
   "execution_count": 79,
   "id": "4c9ea43a",
   "metadata": {},
   "outputs": [],
   "source": [
    "sql_bis = f\"\"\"\n",
    "WITH\n",
    "  sales as (SELECT\n",
    "distinct tx_signer as sellers,\n",
    "count(distinct tx_hash) as n_sales\n",
    "from near.core.ez_nft_mints\n",
    "  where block_timestamp between CURRENT_DATE-INTERVAL '2 MONTHS' and CURRENT_DATE-INTERVAL '1 MONTH'\n",
    "group by 1 order by 1 asc \n",
    ")\n",
    "SELECT\n",
    "round(avg(n_sales),2) as avg_nft_mints_per_user\n",
    "from sales\n",
    "\"\"\""
   ]
  },
  {
   "cell_type": "code",
   "execution_count": 80,
   "id": "93b73bff",
   "metadata": {},
   "outputs": [],
   "source": [
    "sql_numbers=\"\"\"\n",
    "SELECT\n",
    "count(distinct tx_receiver) as active_marketplaces,\n",
    "count(distinct project_name) as active_collections\n",
    "from near.core.ez_nft_mints\n",
    "  where block_timestamp>=CURRENT_DATE-INTERVAL '1 MONTH'\n",
    "\n",
    "\"\"\""
   ]
  },
  {
   "cell_type": "code",
   "execution_count": 81,
   "id": "2ac1850f",
   "metadata": {},
   "outputs": [],
   "source": [
    "sql2 = f\"\"\"\n",
    "SELECT\n",
    "trunc(block_timestamp,'day') as date,\n",
    "tx_receiver as marketplace,\n",
    "count(distinct tx_signer) as active_users,\n",
    "count(distinct tx_hash) as sales\n",
    "from near.core.ez_nft_mints\n",
    "  where block_timestamp>=CURRENT_DATE-INTERVAL '1 MONTH'\n",
    "group by 1,2 \n",
    "  having sales>1 and active_users>1\n",
    "order by 1 asc \n",
    "\"\"\""
   ]
  },
  {
   "cell_type": "code",
   "execution_count": 82,
   "id": "43f5430f",
   "metadata": {},
   "outputs": [
    {
     "name": "stdout",
     "output_type": "stream",
     "text": [
      "<class 'pandas.core.frame.DataFrame'>\n",
      "RangeIndex: 1 entries, 0 to 0\n",
      "Data columns (total 1 columns):\n",
      " #   Column                  Non-Null Count  Dtype  \n",
      "---  ------                  --------------  -----  \n",
      " 0   avg_nft_mints_per_user  1 non-null      float64\n",
      "dtypes: float64(1)\n",
      "memory usage: 136.0 bytes\n"
     ]
    },
    {
     "data": {
      "text/plain": [
       "DeltaGenerator(_root_container=0, _provided_cursor=None, _parent=None, _block_type=None, _form_data=None)"
      ]
     },
     "execution_count": 82,
     "metadata": {},
     "output_type": "execute_result"
    }
   ],
   "source": [
    "results = sdk.query(sql)\n",
    "df = pd.DataFrame(results.records)\n",
    "df.info()\n",
    "st.subheader('Main NFT activity metrics over the past month')\n",
    "st.markdown('In this part, it can be seen the average metrics of NFT activity during the past month as well as the current active marketplaces and collections')"
   ]
  },
  {
   "cell_type": "code",
   "execution_count": 83,
   "id": "20be8e51",
   "metadata": {},
   "outputs": [
    {
     "name": "stdout",
     "output_type": "stream",
     "text": [
      "<class 'pandas.core.frame.DataFrame'>\n",
      "RangeIndex: 1 entries, 0 to 0\n",
      "Data columns (total 1 columns):\n",
      " #   Column                  Non-Null Count  Dtype  \n",
      "---  ------                  --------------  -----  \n",
      " 0   avg_nft_mints_per_user  1 non-null      float64\n",
      "dtypes: float64(1)\n",
      "memory usage: 136.0 bytes\n"
     ]
    }
   ],
   "source": [
    "results_bis = sdk.query(sql_bis)\n",
    "df_bis = pd.DataFrame(results_bis.records)\n",
    "df_bis.info()"
   ]
  },
  {
   "cell_type": "code",
   "execution_count": 84,
   "id": "50da9385",
   "metadata": {},
   "outputs": [
    {
     "name": "stdout",
     "output_type": "stream",
     "text": [
      "<class 'pandas.core.frame.DataFrame'>\n",
      "RangeIndex: 99 entries, 0 to 98\n",
      "Data columns (total 4 columns):\n",
      " #   Column        Non-Null Count  Dtype \n",
      "---  ------        --------------  ----- \n",
      " 0   date          99 non-null     object\n",
      " 1   marketplace   99 non-null     object\n",
      " 2   active_users  99 non-null     int64 \n",
      " 3   sales         99 non-null     int64 \n",
      "dtypes: int64(2), object(2)\n",
      "memory usage: 3.2+ KB\n"
     ]
    }
   ],
   "source": [
    "results2 = sdk.query(sql2)\n",
    "df2 = pd.DataFrame(results2.records)\n",
    "df2.info()"
   ]
  },
  {
   "cell_type": "code",
   "execution_count": 85,
   "id": "47cdb08d",
   "metadata": {},
   "outputs": [
    {
     "name": "stdout",
     "output_type": "stream",
     "text": [
      "<class 'pandas.core.frame.DataFrame'>\n",
      "RangeIndex: 1 entries, 0 to 0\n",
      "Data columns (total 2 columns):\n",
      " #   Column               Non-Null Count  Dtype\n",
      "---  ------               --------------  -----\n",
      " 0   active_marketplaces  1 non-null      int64\n",
      " 1   active_collections   1 non-null      int64\n",
      "dtypes: int64(2)\n",
      "memory usage: 144.0 bytes\n"
     ]
    }
   ],
   "source": [
    "results_num = sdk.query(sql_numbers)\n",
    "df_num = pd.DataFrame(results_num.records)\n",
    "df_num.info()"
   ]
  },
  {
   "cell_type": "code",
   "execution_count": 86,
   "id": "08ac6677",
   "metadata": {},
   "outputs": [
    {
     "data": {
      "text/plain": [
       "DeltaGenerator(_root_container=0, _provided_cursor=None, _parent=None, _block_type=None, _form_data=None)"
      ]
     },
     "execution_count": 86,
     "metadata": {},
     "output_type": "execute_result"
    }
   ],
   "source": [
    "col1,col2,col3=st.columns(3)\n",
    "with col1:\n",
    "    st.metric('Number of mints per user', df['avg_nft_mints_per_user'][0], int(df['avg_nft_mints_per_user'][0]-df_bis['avg_nft_mints_per_user'][0]))\n",
    "col2.metric('Monthly active marketplaces',df_num.iloc[0][0])\n",
    "col3.metric('Monthly active collections',df_num.iloc[0][1])"
   ]
  },
  {
   "cell_type": "code",
   "execution_count": 87,
   "id": "61c76a2f",
   "metadata": {},
   "outputs": [
    {
     "data": {
      "text/plain": [
       "DeltaGenerator(_root_container=0, _provided_cursor=None, _parent=None, _block_type=None, _form_data=None)"
      ]
     },
     "execution_count": 87,
     "metadata": {},
     "output_type": "execute_result"
    }
   ],
   "source": [
    "st.subheader('NFT activity by marketplaces')\n",
    "st.markdown('In this last part, it can be seen the daily NFT metrics by marketplaces. The active sellers and the number of sales are the main variables taken into account.')"
   ]
  },
  {
   "cell_type": "code",
   "execution_count": 88,
   "id": "61cd5f4e",
   "metadata": {},
   "outputs": [
    {
     "data": {
      "text/plain": [
       "DeltaGenerator(_root_container=0, _provided_cursor=None, _parent=None, _block_type=None, _form_data=None)"
      ]
     },
     "execution_count": 88,
     "metadata": {},
     "output_type": "execute_result"
    }
   ],
   "source": [
    "st.altair_chart(alt.Chart(df2, height=500, width=500)\n",
    "    .mark_bar()\n",
    "    .encode(x='sum(sales)', y=alt.Y('marketplace',sort='-x'),color=alt.Color('marketplace', scale=alt.Scale(scheme='dark2')))\n",
    "    .properties(title='Number of monthly NFT sales by marketplace'))"
   ]
  },
  {
   "cell_type": "code",
   "execution_count": 89,
   "id": "676b1cc0",
   "metadata": {},
   "outputs": [
    {
     "data": {
      "text/plain": [
       "DeltaGenerator(_root_container=0, _provided_cursor=None, _parent=None, _block_type=None, _form_data=None)"
      ]
     },
     "execution_count": 89,
     "metadata": {},
     "output_type": "execute_result"
    }
   ],
   "source": [
    "st.altair_chart(alt.Chart(df2, height=500, width=500)\n",
    "    .mark_bar()\n",
    "    .encode(x='date:O', y='sales:Q',color=alt.Color('marketplace', scale=alt.Scale(scheme='dark2')))\n",
    "    .properties(title='Daily NFT sales by marketplace'))"
   ]
  },
  {
   "cell_type": "code",
   "execution_count": 90,
   "id": "36ac182e",
   "metadata": {},
   "outputs": [
    {
     "data": {
      "text/plain": [
       "DeltaGenerator(_root_container=0, _provided_cursor=None, _parent=None, _block_type=None, _form_data=None)"
      ]
     },
     "execution_count": 90,
     "metadata": {},
     "output_type": "execute_result"
    }
   ],
   "source": [
    "st.altair_chart(alt.Chart(df2, height=500, width=500)\n",
    "    .mark_bar()\n",
    "    .encode(x='date:O', y='active_users:Q',color=alt.Color('marketplace', scale=alt.Scale(scheme='dark2')))\n",
    "    .properties(title='Daily active sellers by marketplace'))"
   ]
  },
  {
   "cell_type": "code",
   "execution_count": 98,
   "id": "45e1dc82",
   "metadata": {},
   "outputs": [],
   "source": [
    "sql3 = f\"\"\"\n",
    "SELECT\n",
    "trunc(block_timestamp,'day') as date,\n",
    "project_name as collection,\n",
    "count(distinct tx_signer) as active_users,\n",
    "count(distinct tx_hash) as sales\n",
    "from near.core.ez_nft_mints\n",
    "  where block_timestamp>=CURRENT_DATE-INTERVAL '1 MONTH' and project_name is not null\n",
    "group by 1,2 \n",
    "  having sales>1 and active_users>1\n",
    "order by 1 asc \n",
    "\"\"\""
   ]
  },
  {
   "cell_type": "code",
   "execution_count": 99,
   "id": "ea6b837a",
   "metadata": {},
   "outputs": [
    {
     "name": "stdout",
     "output_type": "stream",
     "text": [
      "<class 'pandas.core.frame.DataFrame'>\n",
      "RangeIndex: 36 entries, 0 to 35\n",
      "Data columns (total 4 columns):\n",
      " #   Column        Non-Null Count  Dtype \n",
      "---  ------        --------------  ----- \n",
      " 0   date          36 non-null     object\n",
      " 1   collection    36 non-null     object\n",
      " 2   active_users  36 non-null     int64 \n",
      " 3   sales         36 non-null     int64 \n",
      "dtypes: int64(2), object(2)\n",
      "memory usage: 1.2+ KB\n"
     ]
    }
   ],
   "source": [
    "results3 = sdk.query(sql3)\n",
    "df3 = pd.DataFrame(results3.records)\n",
    "df3.info()"
   ]
  },
  {
   "cell_type": "code",
   "execution_count": 100,
   "id": "c8fa53d8",
   "metadata": {},
   "outputs": [
    {
     "data": {
      "text/plain": [
       "DeltaGenerator(_root_container=0, _provided_cursor=None, _parent=None, _block_type=None, _form_data=None)"
      ]
     },
     "execution_count": 100,
     "metadata": {},
     "output_type": "execute_result"
    }
   ],
   "source": [
    "st.subheader('NFT activity by collection')\n",
    "st.markdown('In this last part, it can be seen the daily NFT metrics by collection. The active sellers and the number of sales are the main variables taken into account.')"
   ]
  },
  {
   "cell_type": "code",
   "execution_count": 101,
   "id": "47a589f3",
   "metadata": {},
   "outputs": [
    {
     "data": {
      "text/plain": [
       "DeltaGenerator(_root_container=0, _provided_cursor=None, _parent=None, _block_type=None, _form_data=None)"
      ]
     },
     "execution_count": 101,
     "metadata": {},
     "output_type": "execute_result"
    }
   ],
   "source": [
    "st.altair_chart(alt.Chart(df3, height=500, width=500)\n",
    "    .mark_bar()\n",
    "    .encode(x='sum(sales)', y=alt.Y('collection',sort='-x'),color=alt.Color('collection', scale=alt.Scale(range=[\"#1f77b4\", \"#ff7f0e\", \"#c7c7c7\"])))\n",
    "    .properties(title='Number of monthly NFT sales by collection'))"
   ]
  },
  {
   "cell_type": "code",
   "execution_count": 102,
   "id": "e39d0be7",
   "metadata": {},
   "outputs": [
    {
     "data": {
      "text/plain": [
       "DeltaGenerator(_root_container=0, _provided_cursor=None, _parent=None, _block_type=None, _form_data=None)"
      ]
     },
     "execution_count": 102,
     "metadata": {},
     "output_type": "execute_result"
    }
   ],
   "source": [
    "st.altair_chart(alt.Chart(df3, height=500, width=500)\n",
    "    .mark_bar()\n",
    "    .encode(x='date:O', y='sales:Q',color=alt.Color('collection', scale=alt.Scale(range=[\"#1f77b4\", \"#ff7f0e\", \"#c7c7c7\"])))\n",
    "    .properties(title='Daily NFT sales by collection'))"
   ]
  },
  {
   "cell_type": "code",
   "execution_count": 103,
   "id": "0d21873b",
   "metadata": {},
   "outputs": [
    {
     "data": {
      "text/plain": [
       "DeltaGenerator(_root_container=0, _provided_cursor=None, _parent=None, _block_type=None, _form_data=None)"
      ]
     },
     "execution_count": 103,
     "metadata": {},
     "output_type": "execute_result"
    }
   ],
   "source": [
    "st.altair_chart(alt.Chart(df3, height=500, width=500)\n",
    "    .mark_bar()\n",
    "    .encode(x='date:O', y='active_users:Q',color=alt.Color('collection', scale=alt.Scale(range=[\"#1f77b4\", \"#ff7f0e\", \"#c7c7c7\"])))\n",
    "    .properties(title='Daily active sellers by collection'))"
   ]
  },
  {
   "cell_type": "code",
   "execution_count": null,
   "id": "4a0c82f0",
   "metadata": {},
   "outputs": [],
   "source": []
  }
 ],
 "metadata": {
  "kernelspec": {
   "display_name": "Python 3 (ipykernel)",
   "language": "python",
   "name": "python3"
  },
  "language_info": {
   "codemirror_mode": {
    "name": "ipython",
    "version": 3
   },
   "file_extension": ".py",
   "mimetype": "text/x-python",
   "name": "python",
   "nbconvert_exporter": "python",
   "pygments_lexer": "ipython3",
   "version": "3.9.15"
  }
 },
 "nbformat": 4,
 "nbformat_minor": 5
}
